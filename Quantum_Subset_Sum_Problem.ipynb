{
 "cells": [
  {
   "cell_type": "markdown",
   "metadata": {},
   "source": [
    "# Libraries"
   ]
  },
  {
   "cell_type": "code",
   "execution_count": 1,
   "metadata": {},
   "outputs": [],
   "source": [
    "import matplotlib.pyplot as plt\n",
    "import matplotlib.axes as axes\n",
    "%matplotlib inline\n",
    "import numpy as np\n",
    "import networkx as nx\n",
    "from qiskit import BasicAer\n",
    "from qiskit.tools.visualization import plot_histogram\n",
    "from qiskit.aqua import run_algorithm\n",
    "from qiskit.aqua.input import EnergyInput\n",
    "from qiskit.aqua.translators.ising import max_cut, tsp\n",
    "from qiskit.aqua.algorithms import VQE, ExactEigensolver, QAOA\n",
    "from qiskit.aqua.components.optimizers import SPSA\n",
    "from qiskit.aqua.components.variational_forms import RY\n",
    "from qiskit.aqua import QuantumInstance\n",
    "from docplex.mp.model import Model\n",
    "from qiskit.aqua.translators.ising import docplex\n",
    "from pyqubo import Binary, solve_ising,Constraint\n",
    "import numpy as np\n",
    "# setup aqua logging\n",
    "import logging\n",
    "from qiskit.aqua import set_qiskit_aqua_logging\n",
    "import time\n",
    "import matplotlib.pyplot as plt"
   ]
  },
  {
   "cell_type": "markdown",
   "metadata": {},
   "source": [
    "# Function to take input and return the qubo"
   ]
  },
  {
   "cell_type": "code",
   "execution_count": 2,
   "metadata": {},
   "outputs": [],
   "source": [
    "def quboformation():\n",
    "    # # Define hamiltonian\n",
    "    k=int(input(\"enter required sum : \"))\n",
    "    n=int(input(\"enter # of elements in set : \"))\n",
    "    a=np.zeros((n))\n",
    "    q=0\n",
    "    s={i:'s%d' %i for i in range (n)}\n",
    "    z={i:'s%d' %i for i in range (n)}\n",
    "    for i in range(0,n):\n",
    "        a[i]=int(input(\"element \" + str(i+1)+ \" : \"))\n",
    "        s[i]=Binary(\"s{}\".format(i))\n",
    "    for i in range(0,n):\n",
    "        q=q+s[i]*a[i]\n",
    "    H=(k-q)**2\n",
    "\n",
    "    # Create Ising model\n",
    "    model = H.compile()\n",
    "    linear, quad,offset = model.to_ising()\n",
    "\n",
    "    # Solve Ising model\n",
    "    solution = solve_ising(linear, quad)\n",
    "    solution \n",
    "\n",
    "    model = H.compile()\n",
    "\n",
    "    qubo, offset = model.to_qubo()\n",
    "    i=0\n",
    "    j=1\n",
    "    z=-1\n",
    "    arr = np.zeros((n,n))\n",
    "    for x in qubo:\n",
    "        if(j<n and z==-1):\n",
    "            arr[i][j] = qubo[x]\n",
    "            j=j+1\n",
    "        elif (i<n-2 and z==-1):\n",
    "            i = i+1\n",
    "            j=i+1\n",
    "            arr[i][j] = qubo[x]\n",
    "            j=j+1\n",
    "        else:\n",
    "            z=z+1\n",
    "            arr[z][z] = qubo[x]        \n",
    "    return arr,offset,n,k,a,qubo\n"
   ]
  },
  {
   "cell_type": "markdown",
   "metadata": {},
   "source": [
    "# Qubo Formation"
   ]
  },
  {
   "cell_type": "code",
   "execution_count": 3,
   "metadata": {},
   "outputs": [
    {
     "name": "stdout",
     "output_type": "stream",
     "text": [
      "enter required sum : 4\n",
      "enter # of elements in set : 3\n",
      "element 1 : 2\n",
      "element 2 : 2\n",
      "element 3 : 4\n"
     ]
    },
    {
     "data": {
      "text/plain": [
       "<qiskit.aqua.operators.weighted_pauli_operator.WeightedPauliOperator at 0x1a2ee97630>"
      ]
     },
     "execution_count": 3,
     "metadata": {},
     "output_type": "execute_result"
    }
   ],
   "source": [
    "# Create an instance of a model and variables.\n",
    "mdl = Model(name='max_cut')\n",
    "arr,offset,n,k,a,qubo = quboformation()\n",
    "s={i:'s%d' %i for i in range (n)}\n",
    "for i in range(n):\n",
    "    s[i]=mdl.binary_var(\"s{}\".format(i))\n",
    "subset_sum_func=offset\n",
    "for i in range(n):\n",
    "    for j in range(n):\n",
    "        subset_sum_func=subset_sum_func+s[i]*s[j]*arr[i][j]\n",
    "mdl.minimize(subset_sum_func) \n",
    "qubitOp, offset = docplex.get_qubitops(mdl)  \n",
    "qubitOp"
   ]
  },
  {
   "cell_type": "markdown",
   "metadata": {},
   "source": [
    "# VQE Method"
   ]
  },
  {
   "cell_type": "code",
   "execution_count": 4,
   "metadata": {},
   "outputs": [
    {
     "name": "stdout",
     "output_type": "stream",
     "text": [
      "1\n",
      "Objective -6.0\n",
      "solution [0. 0. 1.]\n",
      "energy: -6.0\n",
      "obj sol 0.0\n",
      "\n",
      "\n",
      "Objective -6.0\n",
      "solution [1. 1. 0.]\n",
      "energy: -6.0\n",
      "obj sol 0.0\n",
      "\n",
      "\n",
      "Objective -6.0\n",
      "solution [0. 1. 1.]\n",
      "energy: -6.0\n",
      "obj sol 4.0\n",
      "\n",
      "\n",
      "Objective -6.0\n",
      "solution [1. 0. 1.]\n",
      "energy: -6.0\n",
      "obj sol 4.0\n",
      "\n",
      "\n",
      "Objective -6.0\n",
      "solution [0. 1. 0.]\n",
      "energy: -6.0\n",
      "obj sol 4.0\n",
      "\n",
      "\n",
      "Objective -6.0\n",
      "solution [1. 0. 0.]\n",
      "energy: -6.0\n",
      "obj sol 4.0\n",
      "\n",
      "\n",
      "Objective -6.0\n",
      "solution [1. 1. 1.]\n",
      "energy: -6.0\n",
      "obj sol 16.0\n",
      "\n",
      "\n",
      "Objective -6.0\n",
      "solution [0. 0. 0.]\n",
      "energy: -6.0\n",
      "obj sol 16.0\n",
      "\n",
      "\n"
     ]
    }
   ],
   "source": [
    "ee = ExactEigensolver(qubitOp, k=70)\n",
    "result = ee.run()\n",
    "\n",
    "\"\"\"\n",
    "algorithm_cfg = {\n",
    "    'name': 'ExactEigensolver',\n",
    "}\n",
    "\n",
    "params = {\n",
    "    'problem': {'name': 'ising'},\n",
    "    'algorithm': algorithm_cfg\n",
    "}\n",
    "result = run_algorithm(params,algo_input)\n",
    "\"\"\"\n",
    "print(2^n)\n",
    "for i in range(0,(2**n)):\n",
    "    x = max_cut.sample_most_likely(result['eigvecs'][i])\n",
    "    obj=0\n",
    "    for i in range(n):\n",
    "        obj=obj+ a[i]*x[i]\n",
    "    obj=(k-obj)**2\n",
    "    print('Objective',result['energy'])\n",
    "    print('solution',max_cut.get_graph_solution(x))\n",
    "    print('energy:', result['energy'])\n",
    "    print('obj sol',obj)\n",
    "    print('\\n')"
   ]
  },
  {
   "cell_type": "markdown",
   "metadata": {},
   "source": [
    "# Choosing the Best Solution"
   ]
  },
  {
   "cell_type": "code",
   "execution_count": 5,
   "metadata": {},
   "outputs": [
    {
     "name": "stdout",
     "output_type": "stream",
     "text": [
      "energy: -5.999999999809184\n",
      "time: 4.745990037918091\n",
      "max-cut objective: 1.908162516883749e-10\n",
      "solution: [1. 1. 0.]\n",
      "solution objective:  0.0\n",
      "energy: -5.987014432589905\n",
      "time: 10.774800777435303\n",
      "max-cut objective: 0.012985567410095378\n",
      "solution: [0. 0. 1.]\n",
      "solution objective:  0.0\n",
      "energy: -5.999912477412746\n",
      "time: 15.86035418510437\n",
      "max-cut objective: 8.752258725408524e-05\n",
      "solution: [0. 0. 1.]\n",
      "solution objective:  0.0\n",
      "energy: -5.999979471956303\n",
      "time: 21.133850812911987\n",
      "max-cut objective: 2.052804369689909e-05\n",
      "solution: [0. 0. 1.]\n",
      "solution objective:  0.0\n",
      "energy: -5.999941929938581\n",
      "time: 26.602831840515137\n",
      "max-cut objective: 5.807006141900217e-05\n",
      "solution: [1. 1. 0.]\n",
      "solution objective:  0.0\n",
      "energy: -5.999931187075165\n",
      "time: 32.392581939697266\n",
      "max-cut objective: 6.8812924834738e-05\n",
      "solution: [1. 1. 0.]\n",
      "solution objective:  0.0\n",
      "energy: -5.999801385459059\n",
      "time: 38.71550178527832\n",
      "max-cut objective: 0.00019861454094094455\n",
      "solution: [0. 0. 1.]\n",
      "solution objective:  0.0\n",
      "energy: -5.999725046878155\n",
      "time: 43.49963116645813\n",
      "max-cut objective: 0.0002749531218446677\n",
      "solution: [0. 0. 1.]\n",
      "solution objective:  0.0\n",
      "energy: -5.999889391540685\n",
      "time: 50.34232687950134\n",
      "max-cut objective: 0.00011060845931520902\n",
      "solution: [1. 1. 0.]\n",
      "solution objective:  0.0\n",
      "energy: -5.999646485354692\n",
      "time: 54.77347707748413\n",
      "max-cut objective: 0.000353514645308195\n",
      "solution: [0. 0. 1.]\n",
      "solution objective:  0.0\n"
     ]
    }
   ],
   "source": [
    "var = 10\n",
    "arr1 = []\n",
    "arr2 =[]\n",
    "for i in range(var):\n",
    "    seed = 10598\n",
    "\n",
    "    spsa = SPSA(max_trials=300)\n",
    "    ry = RY(qubitOp.num_qubits, depth=i, entanglement='linear')\n",
    "    vqe = VQE(qubitOp, ry, spsa)\n",
    "\n",
    "    backend = BasicAer.get_backend('statevector_simulator')\n",
    "    quantum_instance = QuantumInstance(backend, seed_simulator=seed, seed_transpiler=seed)\n",
    "\n",
    "    result = vqe.run(quantum_instance)\n",
    "\n",
    "    \"\"\"declarative approach\n",
    "    algorithm_cfg = {\n",
    "        'name': 'VQE'\n",
    "    }\n",
    "\n",
    "    optimizer_cfg = {\n",
    "        'name': 'SPSA',\n",
    "        'max_trials': 300\n",
    "    }\n",
    "\n",
    "    var_form_cfg = {\n",
    "        'name': 'RY',\n",
    "        'depth': 5,\n",
    "        'entanglement': 'linear'\n",
    "    }\n",
    "\n",
    "    params = {\n",
    "        'problem': {'name': 'ising', 'random_seed': seed},\n",
    "        'algorithm': algorithm_cfg,\n",
    "        'optimizer': optimizer_cfg,\n",
    "        'variational_form': var_form_cfg,\n",
    "        'backend': {provider': 'qiskit.BasicAer', 'name': 'statevector_simulator'}\n",
    "    }\n",
    "\n",
    "    result = run_algorithm(params, algo_input)\n",
    "    \"\"\"\n",
    "\n",
    "    x = max_cut.sample_most_likely(result['eigvecs'][0])\n",
    "    obj=0\n",
    "    for i in range(n):\n",
    "        obj=obj+ a[i]*x[i]\n",
    "    obj=(k-obj)**2\n",
    "    print('energy:', result['energy'])\n",
    "    print('time:', result['eval_time'])\n",
    "    print('max-cut objective:', result['energy'] + offset)\n",
    "    print('solution:', max_cut.get_graph_solution(x))\n",
    "    print('solution objective: ', obj)\n",
    "    arr1.append(result['eval_time'])\n",
    "    arr2.append(result['energy'] + offset)"
   ]
  },
  {
   "cell_type": "markdown",
   "metadata": {},
   "source": [
    "# Plotting Graphs"
   ]
  },
  {
   "cell_type": "code",
   "execution_count": 6,
   "metadata": {},
   "outputs": [
    {
     "data": {
      "text/plain": [
       "Text(0, 0.5, 'SubSet-Sum Objective')"
      ]
     },
     "execution_count": 6,
     "metadata": {},
     "output_type": "execute_result"
    },
    {
     "data": {
      "image/png": "[encoded data removed]",
      "text/plain": [
       "<Figure size 432x288 with 1 Axes>"
      ]
     },
     "metadata": {
      "needs_background": "light"
     },
     "output_type": "display_data"
    }
   ],
   "source": [
    "plt.plot(arr2)\n",
    "plt.xlabel(\"Depth\")\n",
    "plt.ylabel(\"SubSet-Sum Objective\")"
   ]
  },
  {
   "cell_type": "markdown",
   "metadata": {},
   "source": [
    "# Drawing Circuit (Depth =10)"
   ]
  },
  {
   "cell_type": "code",
   "execution_count": 7,
   "metadata": {
    "scrolled": true
   },
   "outputs": [
    {
     "data": {
      "text/html": [
       "<pre style=\"word-wrap: normal;white-space: pre;background: #fff0;line-height: 1.1;font-family: &quot;Courier New&quot;,Courier,monospace\">        ┌─────────────────┐ ░                                                ░ »\n",
       "q_0: |0>┤ U3(-3.8375,0,0) ├─░───────────────■────────────────────────────────░─»\n",
       "        ├─────────────────┤ ░ ┌──────────┐┌─┴─┐┌──────────┐                  ░ »\n",
       "q_1: |0>┤ U3(-4.5651,0,0) ├─░─┤ U2(0,pi) ├┤ X ├┤ U2(0,pi) ├──■───────────────░─»\n",
       "        ├─────────────────┤ ░ ├──────────┤└───┘└──────────┘┌─┴─┐┌──────────┐ ░ »\n",
       "q_2: |0>┤ U3(-2.4803,0,0) ├─░─┤ U2(0,pi) ├─────────────────┤ X ├┤ U2(0,pi) ├─░─»\n",
       "        └─────────────────┘ ░ └──────────┘                 └───┘└──────────┘ ░ »\n",
       "«      ┌────────────────┐  ░                                                ░ »\n",
       "«q_0: ─┤ U3(1.9027,0,0) ├──░───────────────■────────────────────────────────░─»\n",
       "«     ┌┴────────────────┴┐ ░ ┌──────────┐┌─┴─┐┌──────────┐                  ░ »\n",
       "«q_1: ┤ U3(-0.57048,0,0) ├─░─┤ U2(0,pi) ├┤ X ├┤ U2(0,pi) ├──■───────────────░─»\n",
       "«     └┬────────────────┬┘ ░ ├──────────┤└───┘└──────────┘┌─┴─┐┌──────────┐ ░ »\n",
       "«q_2: ─┤ U3(0.7902,0,0) ├──░─┤ U2(0,pi) ├─────────────────┤ X ├┤ U2(0,pi) ├─░─»\n",
       "«      └────────────────┘  ░ └──────────┘                 └───┘└──────────┘ ░ »\n",
       "«     ┌─────────────────┐ ░                                                ░ »\n",
       "«q_0: ┤ U3(0.93171,0,0) ├─░───────────────■────────────────────────────────░─»\n",
       "«     ├─────────────────┤ ░ ┌──────────┐┌─┴─┐┌──────────┐                  ░ »\n",
       "«q_1: ┤ U3(-5.0044,0,0) ├─░─┤ U2(0,pi) ├┤ X ├┤ U2(0,pi) ├──■───────────────░─»\n",
       "«     └┬────────────────┤ ░ ├──────────┤└───┘└──────────┘┌─┴─┐┌──────────┐ ░ »\n",
       "«q_2: ─┤ U3(3.8371,0,0) ├─░─┤ U2(0,pi) ├─────────────────┤ X ├┤ U2(0,pi) ├─░─»\n",
       "«      └────────────────┘ ░ └──────────┘                 └───┘└──────────┘ ░ »\n",
       "«      ┌────────────────┐ ░                                                ░ »\n",
       "«q_0: ─┤ U3(2.7544,0,0) ├─░───────────────■────────────────────────────────░─»\n",
       "«      ├────────────────┤ ░ ┌──────────┐┌─┴─┐┌──────────┐                  ░ »\n",
       "«q_1: ─┤ U3(1.4167,0,0) ├─░─┤ U2(0,pi) ├┤ X ├┤ U2(0,pi) ├──■───────────────░─»\n",
       "«     ┌┴────────────────┤ ░ ├──────────┤└───┘└──────────┘┌─┴─┐┌──────────┐ ░ »\n",
       "«q_2: ┤ U3(-2.4245,0,0) ├─░─┤ U2(0,pi) ├─────────────────┤ X ├┤ U2(0,pi) ├─░─»\n",
       "«     └─────────────────┘ ░ └──────────┘                 └───┘└──────────┘ ░ »\n",
       "«      ┌───────────────┐   ░                                                ░ »\n",
       "«q_0: ─┤ U3(1.755,0,0) ├───░───────────────■────────────────────────────────░─»\n",
       "«     ┌┴───────────────┴─┐ ░ ┌──────────┐┌─┴─┐┌──────────┐                  ░ »\n",
       "«q_1: ┤ U3(-0.35261,0,0) ├─░─┤ U2(0,pi) ├┤ X ├┤ U2(0,pi) ├──■───────────────░─»\n",
       "«     ├─────────────────┬┘ ░ ├──────────┤└───┘└──────────┘┌─┴─┐┌──────────┐ ░ »\n",
       "«q_2: ┤ U3(-5.6528,0,0) ├──░─┤ U2(0,pi) ├─────────────────┤ X ├┤ U2(0,pi) ├─░─»\n",
       "«     └─────────────────┘  ░ └──────────┘                 └───┘└──────────┘ ░ »\n",
       "«      ┌────────────────┐ ░                                                ░ »\n",
       "«q_0: ─┤ U3(1.0826,0,0) ├─░───────────────■────────────────────────────────░─»\n",
       "«     ┌┴────────────────┤ ░ ┌──────────┐┌─┴─┐┌──────────┐                  ░ »\n",
       "«q_1: ┤ U3(-0.4697,0,0) ├─░─┤ U2(0,pi) ├┤ X ├┤ U2(0,pi) ├──■───────────────░─»\n",
       "«     └┬────────────────┤ ░ ├──────────┤└───┘└──────────┘┌─┴─┐┌──────────┐ ░ »\n",
       "«q_2: ─┤ U3(3.2919,0,0) ├─░─┤ U2(0,pi) ├─────────────────┤ X ├┤ U2(0,pi) ├─░─»\n",
       "«      └────────────────┘ ░ └──────────┘                 └───┘└──────────┘ ░ »\n",
       "«      ┌────────────────┐ ░                                                ░ »\n",
       "«q_0: ─┤ U3(-4.384,0,0) ├─░───────────────■────────────────────────────────░─»\n",
       "«     ┌┴────────────────┤ ░ ┌──────────┐┌─┴─┐┌──────────┐                  ░ »\n",
       "«q_1: ┤ U3(-1.0967,0,0) ├─░─┤ U2(0,pi) ├┤ X ├┤ U2(0,pi) ├──■───────────────░─»\n",
       "«     └┬────────────────┤ ░ ├──────────┤└───┘└──────────┘┌─┴─┐┌──────────┐ ░ »\n",
       "«q_2: ─┤ U3(-2.807,0,0) ├─░─┤ U2(0,pi) ├─────────────────┤ X ├┤ U2(0,pi) ├─░─»\n",
       "«      └────────────────┘ ░ └──────────┘                 └───┘└──────────┘ ░ »\n",
       "«      ┌────────────────┐ ░                                                ░ »\n",
       "«q_0: ─┤ U3(1.8841,0,0) ├─░───────────────■────────────────────────────────░─»\n",
       "«     ┌┴────────────────┤ ░ ┌──────────┐┌─┴─┐┌──────────┐                  ░ »\n",
       "«q_1: ┤ U3(-5.0478,0,0) ├─░─┤ U2(0,pi) ├┤ X ├┤ U2(0,pi) ├──■───────────────░─»\n",
       "«     ├─────────────────┤ ░ ├──────────┤└───┘└──────────┘┌─┴─┐┌──────────┐ ░ »\n",
       "«q_2: ┤ U3(0.11969,0,0) ├─░─┤ U2(0,pi) ├─────────────────┤ X ├┤ U2(0,pi) ├─░─»\n",
       "«     └─────────────────┘ ░ └──────────┘                 └───┘└──────────┘ ░ »\n",
       "«     ┌─────────────────┐ ░                                                ░ »\n",
       "«q_0: ┤ U3(-6.2084,0,0) ├─░───────────────■────────────────────────────────░─»\n",
       "«     ├─────────────────┤ ░ ┌──────────┐┌─┴─┐┌──────────┐                  ░ »\n",
       "«q_1: ┤ U3(0.94353,0,0) ├─░─┤ U2(0,pi) ├┤ X ├┤ U2(0,pi) ├──■───────────────░─»\n",
       "«     ├─────────────────┤ ░ ├──────────┤└───┘└──────────┘┌─┴─┐┌──────────┐ ░ »\n",
       "«q_2: ┤ U3(-2.0448,0,0) ├─░─┤ U2(0,pi) ├─────────────────┤ X ├┤ U2(0,pi) ├─░─»\n",
       "«     └─────────────────┘ ░ └──────────┘                 └───┘└──────────┘ ░ »\n",
       "«     ┌──────────────────┐ ░ \n",
       "«q_0: ┤ U3(-0.21523,0,0) ├─░─\n",
       "«     ├─────────────────┬┘ ░ \n",
       "«q_1: ┤ U3(-3.4164,0,0) ├──░─\n",
       "«     └┬────────────────┤  ░ \n",
       "«q_2: ─┤ U3(1.1595,0,0) ├──░─\n",
       "«      └────────────────┘  ░ </pre>"
      ],
      "text/plain": [
       "<qiskit.visualization.text.TextDrawing at 0x1a2f09b128>"
      ]
     },
     "execution_count": 7,
     "metadata": {},
     "output_type": "execute_result"
    }
   ],
   "source": [
    "cct = vqe.construct_circuit(result['opt_params'], statevector_mode=True)[0]\n",
    "cct.draw()"
   ]
  },
  {
   "cell_type": "markdown",
   "metadata": {},
   "source": [
    "# DWAVE"
   ]
  },
  {
   "cell_type": "code",
   "execution_count": 9,
   "metadata": {},
   "outputs": [
    {
     "name": "stdout",
     "output_type": "stream",
     "text": [
      "Chain Strength :  4\n",
      "{'s0': 0, 's1': 0, 's2': 1} Energy:  -16.0 Occurrences:  3106\n",
      "{'s0': 1, 's1': 1, 's2': 0} Energy:  -16.0 Occurrences:  1888\n",
      "{'s0': 0, 's1': 1, 's2': 0} Energy:  -12.0 Occurrences:  2\n",
      "{'s0': 1, 's1': 0, 's2': 1} Energy:  -12.0 Occurrences:  1\n",
      "{'s0': 0, 's1': 1, 's2': 1} Energy:  -12.0 Occurrences:  2\n",
      "{'s0': 1, 's1': 0, 's2': 1} Energy:  -12.0 Occurrences:  1\n"
     ]
    }
   ],
   "source": [
    "from dwave.system.samplers import DWaveSampler\n",
    "from dwave.system.composites import EmbeddingComposite\n",
    "sampler = DWaveSampler(endpoint='https://cloud.dwavesys.com/sapi', solver='DW_2000Q_2_1')\n",
    "sampler_embedded = EmbeddingComposite(sampler)\n",
    "\n",
    "Q = qubo\n",
    "total_occur = []\n",
    "time_sec = []\n",
    "\n",
    "for c in range(10):\n",
    "    total_occur.append(0)\n",
    "    t1 = time.time()\n",
    "    response = sampler_embedded.sample_qubo(Q, num_reads=5000,chain_strength=c)\n",
    "    time_sec.append(time.time()-t1)\n",
    "    x=[]\n",
    "    ene = []\n",
    "    occ=[]\n",
    "    if(c==4):\n",
    "        print(\"Chain Strength : \",c)\n",
    "    for datum in response.data(['sample', 'energy', 'num_occurrences']):   \n",
    "        x.append(datum.sample)\n",
    "        ene.append(datum.energy)\n",
    "        occ.append(datum.num_occurrences)\n",
    "        if (c==4):\n",
    "            print(datum.sample, \"Energy: \", datum.energy, \"Occurrences: \", datum.num_occurrences)\n",
    "    z={i:'s%d' %i for i in range (n)}\n",
    "    sum =[]\n",
    "    for i in range(len(x)):\n",
    "        sum.append(0)\n",
    "        for j in range(n):\n",
    "            if(x[i][z[j]]==1):\n",
    "                sum[i]+= a[j]\n",
    "        if(sum[i]==k):\n",
    "            total_occur[c]+=occ[i]"
   ]
  },
  {
   "cell_type": "markdown",
   "metadata": {},
   "source": [
    "# Plotting Graphs"
   ]
  },
  {
   "cell_type": "code",
   "execution_count": 10,
   "metadata": {},
   "outputs": [
    {
     "data": {
      "text/plain": [
       "Text(0, 0.5, 'Number of Occurances')"
      ]
     },
     "execution_count": 10,
     "metadata": {},
     "output_type": "execute_result"
    },
    {
     "data": {
      "image/png": "[encoded data removed]",
      "text/plain": [
       "<Figure size 432x288 with 1 Axes>"
      ]
     },
     "metadata": {
      "needs_background": "light"
     },
     "output_type": "display_data"
    }
   ],
   "source": [
    "plt.plot(total_occur)\n",
    "plt.xlabel(\"Chain Strength\")\n",
    "plt.ylabel(\"Number of Occurances\")"
   ]
  },
  {
   "cell_type": "code",
   "execution_count": 11,
   "metadata": {},
   "outputs": [
    {
     "data": {
      "text/plain": [
       "Text(0, 0.5, 'Processing Time')"
      ]
     },
     "execution_count": 11,
     "metadata": {},
     "output_type": "execute_result"
    },
    {
     "data": {
      "image/png": "[encoded data removed]",
      "text/plain": [
       "<Figure size 432x288 with 1 Axes>"
      ]
     },
     "metadata": {
      "needs_background": "light"
     },
     "output_type": "display_data"
    }
   ],
   "source": [
    "plt.plot(time_sec)\n",
    "plt.xlabel(\"Chain Strength\")\n",
    "plt.ylabel(\"Processing Time\")"
   ]
  },
  {
   "cell_type": "code",
   "execution_count": null,
   "metadata": {},
   "outputs": [],
   "source": []
  }
 ],
 "metadata": {
  "kernelspec": {
   "display_name": "Python 3",
   "language": "python",
   "name": "python3"
  },
  "language_info": {
   "codemirror_mode": {
    "name": "ipython",
    "version": 3
   },
   "file_extension": ".py",
   "mimetype": "text/x-python",
   "name": "python",
   "nbconvert_exporter": "python",
   "pygments_lexer": "ipython3",
   "version": "3.7.3"
  }
 },
 "nbformat": 4,
 "nbformat_minor": 2
}
