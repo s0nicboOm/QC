{
 "cells": [
  {
   "cell_type": "markdown",
   "metadata": {},
   "source": [
    "# Libraries"
   ]
  },
  {
   "cell_type": "code",
   "execution_count": 2,
   "metadata": {},
   "outputs": [],
   "source": [
    "import matplotlib.pyplot as plt\n",
    "import matplotlib.axes as axes\n",
    "%matplotlib inline\n",
    "import numpy as np\n",
    "import networkx as nx\n",
    "from qiskit import BasicAer\n",
    "from qiskit.tools.visualization import plot_histogram\n",
    "from qiskit.aqua import run_algorithm\n",
    "from qiskit.aqua.input import EnergyInput\n",
    "from qiskit.aqua.translators.ising import max_cut, tsp\n",
    "from qiskit.aqua.algorithms import VQE, ExactEigensolver, QAOA\n",
    "from qiskit.aqua.components.optimizers import SPSA\n",
    "from qiskit.aqua.components.variational_forms import RY\n",
    "from qiskit.aqua import QuantumInstance\n",
    "from docplex.mp.model import Model\n",
    "from qiskit.aqua.translators.ising import docplex\n",
    "from pyqubo import Binary, solve_ising,Constraint\n",
    "import numpy as np\n",
    "# setup aqua logging\n",
    "import logging\n",
    "from qiskit.aqua import set_qiskit_aqua_logging\n",
    "import time\n",
    "import matplotlib.pyplot as plt"
   ]
  },
  {
   "cell_type": "markdown",
   "metadata": {},
   "source": [
    "# Function to take input and return the qubo"
   ]
  },
  {
   "cell_type": "code",
   "execution_count": 3,
   "metadata": {},
   "outputs": [],
   "source": [
    "def quboformation():\n",
    "    # # Define hamiltonian\n",
    "    k=int(input(\"enter required sum : \"))\n",
    "    n=int(input(\"enter # of elements in set : \"))\n",
    "    a=np.zeros((n))\n",
    "    q=0\n",
    "    s={i:'s%d' %i for i in range (n)}\n",
    "    z={i:'s%d' %i for i in range (n)}\n",
    "    for i in range(0,n):\n",
    "        a[i]=int(input(\"element \" + str(i+1)+ \" : \"))\n",
    "        s[i]=Binary(\"s{}\".format(i))\n",
    "    for i in range(0,n):\n",
    "        q=q+s[i]*a[i]\n",
    "    H=(k-q)**2\n",
    "\n",
    "    # Create Ising model\n",
    "    model = H.compile()\n",
    "    linear, quad,offset = model.to_ising()\n",
    "\n",
    "    # Solve Ising model\n",
    "    solution = solve_ising(linear, quad)\n",
    "    solution \n",
    "\n",
    "    model = H.compile()\n",
    "\n",
    "    qubo, offset = model.to_qubo()\n",
    "    i=0\n",
    "    j=1\n",
    "    z=-1\n",
    "    arr = np.zeros((n,n))\n",
    "    for x in qubo:\n",
    "        if(j<n and z==-1):\n",
    "            arr[i][j] = qubo[x]\n",
    "            j=j+1\n",
    "        elif (i<n-2 and z==-1):\n",
    "            i = i+1\n",
    "            j=i+1\n",
    "            arr[i][j] = qubo[x]\n",
    "            j=j+1\n",
    "        else:\n",
    "            z=z+1\n",
    "            arr[z][z] = qubo[x]        \n",
    "    return arr,offset,n,k,a,qubo\n"
   ]
  },
  {
   "cell_type": "markdown",
   "metadata": {},
   "source": [
    "# Qubo Formation"
   ]
  },
  {
   "cell_type": "code",
   "execution_count": 4,
   "metadata": {},
   "outputs": [
    {
     "name": "stdout",
     "output_type": "stream",
     "text": [
      "enter required sum : 4\n",
      "enter # of elements in set : 3\n",
      "element 1 : 2\n",
      "element 2 : 2\n",
      "element 3 : 4\n"
     ]
    },
    {
     "data": {
      "text/plain": [
       "<qiskit.aqua.operators.weighted_pauli_operator.WeightedPauliOperator at 0x1a2a5f74e0>"
      ]
     },
     "execution_count": 4,
     "metadata": {},
     "output_type": "execute_result"
    }
   ],
   "source": [
    "# Create an instance of a model and variables.\n",
    "mdl = Model(name='max_cut')\n",
    "arr,offset,n,k,a,qubo = quboformation()\n",
    "s={i:'s%d' %i for i in range (n)}\n",
    "for i in range(n):\n",
    "    s[i]=mdl.binary_var(\"s{}\".format(i))\n",
    "subset_sum_func=offset\n",
    "for i in range(n):\n",
    "    for j in range(n):\n",
    "        subset_sum_func=subset_sum_func+s[i]*s[j]*arr[i][j]\n",
    "mdl.minimize(subset_sum_func) \n",
    "qubitOp, offset = docplex.get_qubitops(mdl)  \n",
    "qubitOp"
   ]
  },
  {
   "cell_type": "markdown",
   "metadata": {},
   "source": [
    "# VQE Method"
   ]
  },
  {
   "cell_type": "code",
   "execution_count": 5,
   "metadata": {},
   "outputs": [
    {
     "name": "stdout",
     "output_type": "stream",
     "text": [
      "1\n",
      "Objective -6.0\n",
      "solution [0. 0. 1.]\n",
      "energy: -6.0\n",
      "obj sol 0.0\n",
      "\n",
      "\n",
      "Objective -6.0\n",
      "solution [1. 1. 0.]\n",
      "energy: -6.0\n",
      "obj sol 0.0\n",
      "\n",
      "\n",
      "Objective -6.0\n",
      "solution [0. 1. 1.]\n",
      "energy: -6.0\n",
      "obj sol 4.0\n",
      "\n",
      "\n",
      "Objective -6.0\n",
      "solution [1. 0. 1.]\n",
      "energy: -6.0\n",
      "obj sol 4.0\n",
      "\n",
      "\n",
      "Objective -6.0\n",
      "solution [0. 1. 0.]\n",
      "energy: -6.0\n",
      "obj sol 4.0\n",
      "\n",
      "\n",
      "Objective -6.0\n",
      "solution [1. 0. 0.]\n",
      "energy: -6.0\n",
      "obj sol 4.0\n",
      "\n",
      "\n",
      "Objective -6.0\n",
      "solution [1. 1. 1.]\n",
      "energy: -6.0\n",
      "obj sol 16.0\n",
      "\n",
      "\n",
      "Objective -6.0\n",
      "solution [0. 0. 0.]\n",
      "energy: -6.0\n",
      "obj sol 16.0\n",
      "\n",
      "\n"
     ]
    }
   ],
   "source": [
    "ee = ExactEigensolver(qubitOp, k=70)\n",
    "result = ee.run()\n",
    "\n",
    "\"\"\"\n",
    "algorithm_cfg = {\n",
    "    'name': 'ExactEigensolver',\n",
    "}\n",
    "\n",
    "params = {\n",
    "    'problem': {'name': 'ising'},\n",
    "    'algorithm': algorithm_cfg\n",
    "}\n",
    "result = run_algorithm(params,algo_input)\n",
    "\"\"\"\n",
    "print(2^n)\n",
    "for i in range(0,(2**n)):\n",
    "    x = max_cut.sample_most_likely(result['eigvecs'][i])\n",
    "    obj=0\n",
    "    for i in range(n):\n",
    "        obj=obj+ a[i]*x[i]\n",
    "    obj=(k-obj)**2\n",
    "    print('Objective',result['energy'])\n",
    "    print('solution',max_cut.get_graph_solution(x))\n",
    "    print('energy:', result['energy'])\n",
    "    print('obj sol',obj)\n",
    "    print('\\n')"
   ]
  },
  {
   "cell_type": "markdown",
   "metadata": {},
   "source": [
    "# Choosing the Best Solution"
   ]
  },
  {
   "cell_type": "code",
   "execution_count": 6,
   "metadata": {},
   "outputs": [
    {
     "name": "stdout",
     "output_type": "stream",
     "text": [
      "energy: -5.999790740777095\n",
      "time: 4.892743825912476\n",
      "max-cut objective: 0.000209259222905267\n",
      "solution: [1. 1. 0.]\n",
      "solution objective:  0.0\n",
      "energy: -5.998776359040835\n",
      "time: 11.10805606842041\n",
      "max-cut objective: 0.001223640959165273\n",
      "solution: [0. 0. 1.]\n",
      "solution objective:  0.0\n",
      "energy: -5.999144863353973\n",
      "time: 15.57807207107544\n",
      "max-cut objective: 0.0008551366460274323\n",
      "solution: [0. 0. 1.]\n",
      "solution objective:  0.0\n",
      "energy: -5.999975514395936\n",
      "time: 21.289767265319824\n",
      "max-cut objective: 2.44856040643171e-05\n",
      "solution: [1. 1. 0.]\n",
      "solution objective:  0.0\n",
      "energy: -5.999980109583227\n",
      "time: 27.283381938934326\n",
      "max-cut objective: 1.989041677319392e-05\n",
      "solution: [1. 1. 0.]\n",
      "solution objective:  0.0\n",
      "energy: -5.999778867303144\n",
      "time: 32.50537085533142\n",
      "max-cut objective: 0.0002211326968559746\n",
      "solution: [0. 0. 1.]\n",
      "solution objective:  0.0\n",
      "energy: -5.999716487805751\n",
      "time: 38.394126892089844\n",
      "max-cut objective: 0.0002835121942492691\n",
      "solution: [0. 0. 1.]\n",
      "solution objective:  0.0\n",
      "energy: -5.999822073756512\n",
      "time: 43.97628402709961\n",
      "max-cut objective: 0.00017792624348800246\n",
      "solution: [0. 0. 1.]\n",
      "solution objective:  0.0\n",
      "energy: -5.999690850409598\n",
      "time: 49.87892389297485\n",
      "max-cut objective: 0.0003091495904019581\n",
      "solution: [1. 1. 0.]\n",
      "solution objective:  0.0\n",
      "energy: -5.9995920591792755\n",
      "time: 57.19291687011719\n",
      "max-cut objective: 0.0004079408207244839\n",
      "solution: [0. 0. 1.]\n",
      "solution objective:  0.0\n"
     ]
    }
   ],
   "source": [
    "var = 10\n",
    "arr1 = []\n",
    "arr2 =[]\n",
    "for i in range(var):\n",
    "    seed = 10598\n",
    "\n",
    "    spsa = SPSA(max_trials=300)\n",
    "    ry = RY(qubitOp.num_qubits, depth=i, entanglement='linear')\n",
    "    vqe = VQE(qubitOp, ry, spsa)\n",
    "\n",
    "    backend = BasicAer.get_backend('statevector_simulator')\n",
    "    quantum_instance = QuantumInstance(backend, seed_simulator=seed, seed_transpiler=seed)\n",
    "\n",
    "    result = vqe.run(quantum_instance)\n",
    "\n",
    "    \"\"\"declarative approach\n",
    "    algorithm_cfg = {\n",
    "        'name': 'VQE'\n",
    "    }\n",
    "\n",
    "    optimizer_cfg = {\n",
    "        'name': 'SPSA',\n",
    "        'max_trials': 300\n",
    "    }\n",
    "\n",
    "    var_form_cfg = {\n",
    "        'name': 'RY',\n",
    "        'depth': 5,\n",
    "        'entanglement': 'linear'\n",
    "    }\n",
    "\n",
    "    params = {\n",
    "        'problem': {'name': 'ising', 'random_seed': seed},\n",
    "        'algorithm': algorithm_cfg,\n",
    "        'optimizer': optimizer_cfg,\n",
    "        'variational_form': var_form_cfg,\n",
    "        'backend': {provider': 'qiskit.BasicAer', 'name': 'statevector_simulator'}\n",
    "    }\n",
    "\n",
    "    result = run_algorithm(params, algo_input)\n",
    "    \"\"\"\n",
    "\n",
    "    x = max_cut.sample_most_likely(result['eigvecs'][0])\n",
    "    obj=0\n",
    "    for i in range(n):\n",
    "        obj=obj+ a[i]*x[i]\n",
    "    obj=(k-obj)**2\n",
    "    print('energy:', result['energy'])\n",
    "    print('time:', result['eval_time'])\n",
    "    print('max-cut objective:', result['energy'] + offset)\n",
    "    print('solution:', max_cut.get_graph_solution(x))\n",
    "    print('solution objective: ', obj)\n",
    "    arr1.append(result['eval_time'])\n",
    "    arr2.append(result['energy'] + offset)"
   ]
  },
  {
   "cell_type": "markdown",
   "metadata": {},
   "source": [
    "# Plotting Graphs"
   ]
  },
  {
   "cell_type": "code",
   "execution_count": 7,
   "metadata": {},
   "outputs": [
    {
     "data": {
      "text/plain": [
       "Text(0, 0.5, 'SubSet-Sum Objective')"
      ]
     },
     "execution_count": 7,
     "metadata": {},
     "output_type": "execute_result"
    },
    {
     "data": {
      "image/png": "[encoded data removed]",
      "text/plain": [
       "<Figure size 432x288 with 1 Axes>"
      ]
     },
     "metadata": {
      "needs_background": "light"
     },
     "output_type": "display_data"
    }
   ],
   "source": [
    "plt.plot(arr2)\n",
    "plt.xlabel(\"Depth\")\n",
    "plt.ylabel(\"SubSet-Sum Objective\")"
   ]
  },
  {
   "cell_type": "markdown",
   "metadata": {},
   "source": [
    "# Drawing Circuit"
   ]
  },
  {
   "cell_type": "code",
   "execution_count": 8,
   "metadata": {},
   "outputs": [
    {
     "data": {
      "text/html": [
       "<pre style=\"word-wrap: normal;white-space: pre;background: #fff0;line-height: 1.1;font-family: &quot;Courier New&quot;,Courier,monospace\">        ┌─────────────────┐  ░                                               »\n",
       "q_0: |0>┤ U3(-3.6164,0,0) ├──░───────────────■───────────────────────────────»\n",
       "        ├─────────────────┴┐ ░ ┌──────────┐┌─┴─┐┌──────────┐                 »\n",
       "q_1: |0>┤ U3(-0.68198,0,0) ├─░─┤ U2(0,pi) ├┤ X ├┤ U2(0,pi) ├──■──────────────»\n",
       "        ├─────────────────┬┘ ░ ├──────────┤└───┘└──────────┘┌─┴─┐┌──────────┐»\n",
       "q_2: |0>┤ U3(0.58511,0,0) ├──░─┤ U2(0,pi) ├─────────────────┤ X ├┤ U2(0,pi) ├»\n",
       "        └─────────────────┘  ░ └──────────┘                 └───┘└──────────┘»\n",
       "«      ░ ┌─────────────────┐  ░                                               »\n",
       "«q_0: ─░─┤ U3(-2.6041,0,0) ├──░───────────────■───────────────────────────────»\n",
       "«      ░ └┬────────────────┤  ░ ┌──────────┐┌─┴─┐┌──────────┐                 »\n",
       "«q_1: ─░──┤ U3(-1.146,0,0) ├──░─┤ U2(0,pi) ├┤ X ├┤ U2(0,pi) ├──■──────────────»\n",
       "«      ░ ┌┴────────────────┴┐ ░ ├──────────┤└───┘└──────────┘┌─┴─┐┌──────────┐»\n",
       "«q_2: ─░─┤ U3(-0.68838,0,0) ├─░─┤ U2(0,pi) ├─────────────────┤ X ├┤ U2(0,pi) ├»\n",
       "«      ░ └──────────────────┘ ░ └──────────┘                 └───┘└──────────┘»\n",
       "«      ░ ┌─────────────────┐  ░                                               »\n",
       "«q_0: ─░─┤ U3(-1.8516,0,0) ├──░───────────────■───────────────────────────────»\n",
       "«      ░ ├─────────────────┤  ░ ┌──────────┐┌─┴─┐┌──────────┐                 »\n",
       "«q_1: ─░─┤ U3(-3.1481,0,0) ├──░─┤ U2(0,pi) ├┤ X ├┤ U2(0,pi) ├──■──────────────»\n",
       "«      ░ ├─────────────────┴┐ ░ ├──────────┤└───┘└──────────┘┌─┴─┐┌──────────┐»\n",
       "«q_2: ─░─┤ U3(-0.16753,0,0) ├─░─┤ U2(0,pi) ├─────────────────┤ X ├┤ U2(0,pi) ├»\n",
       "«      ░ └──────────────────┘ ░ └──────────┘                 └───┘└──────────┘»\n",
       "«      ░ ┌──────────────────┐ ░                                               »\n",
       "«q_0: ─░─┤ U3(0.034727,0,0) ├─░───────────────■───────────────────────────────»\n",
       "«      ░ └┬────────────────┬┘ ░ ┌──────────┐┌─┴─┐┌──────────┐                 »\n",
       "«q_1: ─░──┤ U3(3.0738,0,0) ├──░─┤ U2(0,pi) ├┤ X ├┤ U2(0,pi) ├──■──────────────»\n",
       "«      ░ ┌┴────────────────┴┐ ░ ├──────────┤└───┘└──────────┘┌─┴─┐┌──────────┐»\n",
       "«q_2: ─░─┤ U3(-0.81975,0,0) ├─░─┤ U2(0,pi) ├─────────────────┤ X ├┤ U2(0,pi) ├»\n",
       "«      ░ └──────────────────┘ ░ └──────────┘                 └───┘└──────────┘»\n",
       "«      ░   ┌────────────────┐  ░                                               »\n",
       "«q_0: ─░───┤ U3(2.5808,0,0) ├──░───────────────■───────────────────────────────»\n",
       "«      ░   ├────────────────┤  ░ ┌──────────┐┌─┴─┐┌──────────┐                 »\n",
       "«q_1: ─░───┤ U3(5.5273,0,0) ├──░─┤ U2(0,pi) ├┤ X ├┤ U2(0,pi) ├──■──────────────»\n",
       "«      ░ ┌─┴────────────────┴┐ ░ ├──────────┤└───┘└──────────┘┌─┴─┐┌──────────┐»\n",
       "«q_2: ─░─┤ U3(-0.064071,0,0) ├─░─┤ U2(0,pi) ├─────────────────┤ X ├┤ U2(0,pi) ├»\n",
       "«      ░ └───────────────────┘ ░ └──────────┘                 └───┘└──────────┘»\n",
       "«      ░ ┌─────────────────┐  ░                                               »\n",
       "«q_0: ─░─┤ U3(0.43301,0,0) ├──░───────────────■───────────────────────────────»\n",
       "«      ░ └┬────────────────┤  ░ ┌──────────┐┌─┴─┐┌──────────┐                 »\n",
       "«q_1: ─░──┤ U3(-1.348,0,0) ├──░─┤ U2(0,pi) ├┤ X ├┤ U2(0,pi) ├──■──────────────»\n",
       "«      ░ ┌┴────────────────┴┐ ░ ├──────────┤└───┘└──────────┘┌─┴─┐┌──────────┐»\n",
       "«q_2: ─░─┤ U3(-0.75226,0,0) ├─░─┤ U2(0,pi) ├─────────────────┤ X ├┤ U2(0,pi) ├»\n",
       "«      ░ └──────────────────┘ ░ └──────────┘                 └───┘└──────────┘»\n",
       "«      ░ ┌──────────────────┐ ░                                               »\n",
       "«q_0: ─░─┤ U3(-0.41892,0,0) ├─░───────────────■───────────────────────────────»\n",
       "«      ░ ├──────────────────┤ ░ ┌──────────┐┌─┴─┐┌──────────┐                 »\n",
       "«q_1: ─░─┤ U3(-0.33733,0,0) ├─░─┤ U2(0,pi) ├┤ X ├┤ U2(0,pi) ├──■──────────────»\n",
       "«      ░ └┬────────────────┬┘ ░ ├──────────┤└───┘└──────────┘┌─┴─┐┌──────────┐»\n",
       "«q_2: ─░──┤ U3(5.1669,0,0) ├──░─┤ U2(0,pi) ├─────────────────┤ X ├┤ U2(0,pi) ├»\n",
       "«      ░  └────────────────┘  ░ └──────────┘                 └───┘└──────────┘»\n",
       "«      ░ ┌──────────────────┐ ░                                               »\n",
       "«q_0: ─░─┤ U3(-0.54786,0,0) ├─░───────────────■───────────────────────────────»\n",
       "«      ░ └┬────────────────┬┘ ░ ┌──────────┐┌─┴─┐┌──────────┐                 »\n",
       "«q_1: ─░──┤ U3(2.4016,0,0) ├──░─┤ U2(0,pi) ├┤ X ├┤ U2(0,pi) ├──■──────────────»\n",
       "«      ░  ├────────────────┤  ░ ├──────────┤└───┘└──────────┘┌─┴─┐┌──────────┐»\n",
       "«q_2: ─░──┤ U3(5.7636,0,0) ├──░─┤ U2(0,pi) ├─────────────────┤ X ├┤ U2(0,pi) ├»\n",
       "«      ░  └────────────────┘  ░ └──────────┘                 └───┘└──────────┘»\n",
       "«      ░  ┌────────────────┐ ░                                               »\n",
       "«q_0: ─░──┤ U3(1.2818,0,0) ├─░───────────────■───────────────────────────────»\n",
       "«      ░  ├────────────────┤ ░ ┌──────────┐┌─┴─┐┌──────────┐                 »\n",
       "«q_1: ─░──┤ U3(3.0245,0,0) ├─░─┤ U2(0,pi) ├┤ X ├┤ U2(0,pi) ├──■──────────────»\n",
       "«      ░ ┌┴────────────────┤ ░ ├──────────┤└───┘└──────────┘┌─┴─┐┌──────────┐»\n",
       "«q_2: ─░─┤ U3(-1.2805,0,0) ├─░─┤ U2(0,pi) ├─────────────────┤ X ├┤ U2(0,pi) ├»\n",
       "«      ░ └─────────────────┘ ░ └──────────┘                 └───┘└──────────┘»\n",
       "«      ░ ┌─────────────────┐ ░ \n",
       "«q_0: ─░─┤ U3(-1.4504,0,0) ├─░─\n",
       "«      ░ └┬────────────────┤ ░ \n",
       "«q_1: ─░──┤ U3(2.1995,0,0) ├─░─\n",
       "«      ░ ┌┴────────────────┤ ░ \n",
       "«q_2: ─░─┤ U3(-1.6017,0,0) ├─░─\n",
       "«      ░ └─────────────────┘ ░ </pre>"
      ],
      "text/plain": [
       "<qiskit.visualization.text.TextDrawing at 0x1a2a7fedd8>"
      ]
     },
     "execution_count": 8,
     "metadata": {},
     "output_type": "execute_result"
    }
   ],
   "source": [
    "cct = vqe.construct_circuit(result['opt_params'], statevector_mode=True)[0]\n",
    "cct.draw()"
   ]
  },
  {
   "cell_type": "markdown",
   "metadata": {},
   "source": [
    "# DWAVE"
   ]
  },
  {
   "cell_type": "code",
   "execution_count": 9,
   "metadata": {},
   "outputs": [],
   "source": [
    "from dwave.system.samplers import DWaveSampler\n",
    "from dwave.system.composites import EmbeddingComposite\n",
    "sampler = DWaveSampler(endpoint='https://cloud.dwavesys.com/sapi', solver='DW_2000Q_2_1')\n",
    "sampler_embedded = EmbeddingComposite(sampler)\n",
    "\n",
    "Q = qubo\n",
    "total_occur = []\n",
    "time_sec = []\n",
    "\n",
    "for c in range(10):\n",
    "    total_occur.append(0)\n",
    "    t1 = time.time()\n",
    "    response = sampler_embedded.sample_qubo(Q, num_reads=5000,chain_strength=c)\n",
    "    time_sec.append(time.time()-t1)\n",
    "    x=[]\n",
    "    ene = []\n",
    "    occ=[]\n",
    "    for datum in response.data(['sample', 'energy', 'num_occurrences']):   \n",
    "        x.append(datum.sample)\n",
    "        ene.append(datum.energy)\n",
    "        occ.append(datum.num_occurrences)\n",
    "    z={i:'s%d' %i for i in range (n)}\n",
    "    sum =[]\n",
    "    for i in range(len(x)):\n",
    "        sum.append(0)\n",
    "        for j in range(n):\n",
    "            if(x[i][z[j]]==1):\n",
    "                sum[i]+= a[j]\n",
    "        if(sum[i]==k):\n",
    "            total_occur[c]+=occ[i]"
   ]
  },
  {
   "cell_type": "markdown",
   "metadata": {},
   "source": [
    "# Plotting Graphs"
   ]
  },
  {
   "cell_type": "code",
   "execution_count": 10,
   "metadata": {},
   "outputs": [
    {
     "data": {
      "text/plain": [
       "Text(0, 0.5, 'Number of Occurances')"
      ]
     },
     "execution_count": 10,
     "metadata": {},
     "output_type": "execute_result"
    },
    {
     "data": {
      "image/png": "[encoded data removed]",
      "text/plain": [
       "<Figure size 432x288 with 1 Axes>"
      ]
     },
     "metadata": {
      "needs_background": "light"
     },
     "output_type": "display_data"
    }
   ],
   "source": [
    "plt.plot(total_occur)\n",
    "plt.xlabel(\"Chain Strength\")\n",
    "plt.ylabel(\"Number of Occurances\")"
   ]
  },
  {
   "cell_type": "code",
   "execution_count": 11,
   "metadata": {},
   "outputs": [
    {
     "data": {
      "text/plain": [
       "Text(0, 0.5, 'Processing Time')"
      ]
     },
     "execution_count": 11,
     "metadata": {},
     "output_type": "execute_result"
    },
    {
     "data": {
      "image/png": "[encoded data removed]",
      "text/plain": [
       "<Figure size 432x288 with 1 Axes>"
      ]
     },
     "metadata": {
      "needs_background": "light"
     },
     "output_type": "display_data"
    }
   ],
   "source": [
    "plt.plot(time_sec)\n",
    "plt.xlabel(\"Chain Strength\")\n",
    "plt.ylabel(\"Processing Time\")"
   ]
  },
  {
   "cell_type": "code",
   "execution_count": null,
   "metadata": {},
   "outputs": [],
   "source": []
  }
 ],
 "metadata": {
  "kernelspec": {
   "display_name": "Python 3",
   "language": "python",
   "name": "python3"
  },
  "language_info": {
   "codemirror_mode": {
    "name": "ipython",
    "version": 3
   },
   "file_extension": ".py",
   "mimetype": "text/x-python",
   "name": "python",
   "nbconvert_exporter": "python",
   "pygments_lexer": "ipython3",
   "version": "3.7.1"
  }
 },
 "nbformat": 4,
 "nbformat_minor": 2
}
